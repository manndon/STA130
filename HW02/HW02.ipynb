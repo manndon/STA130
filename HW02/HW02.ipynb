{
 "cells": [
  {
   "cell_type": "markdown",
   "id": "e90e7ad9-eb83-4245-949e-973a8835a5f1",
   "metadata": {},
   "source": [
    "# Homework 2"
   ]
  },
  {
   "cell_type": "markdown",
   "id": "11b531f5-3e48-4631-a8f1-1c5701101b2c",
   "metadata": {
    "jp-MarkdownHeadingCollapsed": true
   },
   "source": [
    "## Question 2"
   ]
  },
  {
   "cell_type": "markdown",
   "id": "062d33c0-97b5-489f-8be3-04dae46cd6ac",
   "metadata": {},
   "source": [
    "### Chat GPT Generated Code"
   ]
  },
  {
   "cell_type": "code",
   "execution_count": null,
   "id": "9b90d814-13fc-4c05-a670-97dd8d4e9122",
   "metadata": {},
   "outputs": [],
   "source": [
    "import numpy as np\n",
    "\n",
    "# Setup parameters\n",
    "all_doors = [1, 2, 3]\n",
    "initial_choice = 1\n",
    "wins = 0\n",
    "reps = 100000\n",
    "\n",
    "for _ in range(reps):\n",
    "    # Randomly place the prize behind one of the doors\n",
    "    winning_door = np.random.choice(all_doors)\n",
    "\n",
    "    # Host reveals a door with a goat (not the chosen or winning door)\n",
    "    remaining_doors = [door for door in all_doors if door != initial_choice and door != winning_door]\n",
    "    revealed_goat = np.random.choice(remaining_doors)\n",
    "\n",
    "    # Switch to the other remaining door\n",
    "    switch_choice = [door for door in all_doors if door != initial_choice and door != revealed_goat][0]\n",
    "\n",
    "    # Check if the switched door is the winning door\n",
    "    if switch_choice == winning_door:\n",
    "        wins += 1\n",
    "\n",
    "# Calculate win percentage\n",
    "win_percentage = wins / reps\n",
    "print(win_percentage)\n"
   ]
  },
  {
   "cell_type": "markdown",
   "id": "a1f2ea90-2545-46b2-8868-b10dc83013ae",
   "metadata": {},
   "source": [
    "### Preferences in terms of readibility or explainability between the original code and the code improvements"
   ]
  },
  {
   "cell_type": "markdown",
   "id": "02491292-555c-4e74-92fd-68d2d83358fd",
   "metadata": {},
   "source": [
    "In my opinion, the removal of the `try` and `except` blocks, aswell as the absence of `append` and `remove` methods from the code make it easier to understand and to read the code."
   ]
  },
  {
   "cell_type": "markdown",
   "id": "587724f2-e158-45bb-92f5-18f553a52d5c",
   "metadata": {
    "jp-MarkdownHeadingCollapsed": true
   },
   "source": [
    "## Question 3"
   ]
  },
  {
   "cell_type": "code",
   "execution_count": 1,
   "id": "ce8175f2-7928-4c96-a4d5-b8105d8c10ba",
   "metadata": {},
   "outputs": [
    {
     "data": {
      "text/plain": [
       "0.66639"
      ]
     },
     "execution_count": 1,
     "metadata": {},
     "output_type": "execute_result"
    }
   ],
   "source": [
    "# Preferred version of the code\n",
    "import numpy as np # import the numpy library\n",
    "\n",
    "all_doors = [1, 2, 3] # setup list containing all the doors\n",
    "initial_choice = 1 # variable containing the door we first select (1 in this case but it doesn't really matter)\n",
    "wins = 0 # variable to count each time we win\n",
    "reps = 100000 # how many time we will run the simulation\n",
    "\n",
    "for _ in range(reps):\n",
    "    winning_door = np.random.choice(all_doors) # we randomly place the prize behind one of the doors\n",
    "    \n",
    "    # get a list of the remaining doors using list comprehension to get all the doors the aren't the initial choice (door 1) or the randomly chosen winning door\n",
    "    remaining_doors = [door for door in all_doors if door != initial_choice and door != winning_door]\n",
    "    revealed_goat = np.random.choice(remaining_doors) # out of the remaining doors with a goat behind them, randomly choose 1 to reveal\n",
    "\n",
    "    switch_choice = [door for door in all_doors if door != initial_choice and door != revealed_goat][0] # switch doors by taking the one that isn't our initial choice and isn't the revealed door\n",
    "    \n",
    "    if switch_choice == winning_door: # Check if the switched door is the winning door\n",
    "        wins += 1 # if it is, add 1 to the win counter\n",
    "\n",
    "# Calculate win percentage\n",
    "win_percentage = wins / reps\n",
    "win_percentage # display wins"
   ]
  },
  {
   "cell_type": "markdown",
   "id": "f7dafd29-251a-4536-95a6-0d913d51437c",
   "metadata": {
    "jp-MarkdownHeadingCollapsed": true
   },
   "source": [
    "## Chat Summary"
   ]
  },
  {
   "cell_type": "markdown",
   "id": "0a58d8b2-c97b-4fca-b58a-70e82e935f9f",
   "metadata": {},
   "source": [
    "**Link to Conversation:** https://chatgpt.com/share/66ea4f74-89dc-8004-b556-f66a85c39c0d\n",
    "\n",
    "**Summary**:\n",
    "\n",
    "Here's a summary of our conversation for your homework assignment:\n",
    "\n",
    "---\n",
    "\n",
    "We reviewed and discussed a Python simulation of the Monty Hall problem provided by your professor. The original code simulated 100,000 repetitions of the game, where a player always switches doors after one of the losing doors is revealed. The code tracked the number of times the player won by switching doors and computed the probability of winning.\n",
    "\n",
    "I then provided a streamlined version of the simulation that eliminates unnecessary complexity, such as exception handling, and replaces the door removal logic with list comprehensions for clarity. The simplified version focuses on essential steps: selecting the winning door, revealing a goat, switching doors, and counting wins.\n",
    "\n",
    "The revised code is easier to explain and understand, while still demonstrating the main concept: switching doors in the Monty Hall problem leads to a higher probability of winning.\n",
    "\n",
    "---\n",
    "\n",
    "Let me know if you'd like to add or modify anything!"
   ]
  },
  {
   "cell_type": "markdown",
   "id": "1d41d527-50ee-4b14-994a-434b935edda0",
   "metadata": {
    "jp-MarkdownHeadingCollapsed": true
   },
   "source": [
    "## Question 4"
   ]
  },
  {
   "cell_type": "markdown",
   "id": "d12493ea-8555-4452-ba82-8f84751aad77",
   "metadata": {},
   "source": [
    "### Chat Summary"
   ]
  },
  {
   "cell_type": "markdown",
   "id": "3b4ef881-c84f-4073-98a9-92c0fc58198b",
   "metadata": {},
   "source": [
    "**ChatGPT Link:** https://chatgpt.com/share/66ea4f74-89dc-8004-b556-f66a85c39c0d\n",
    "\n",
    "**Summary:**\n",
    "\n",
    "Sure! Here's a summary of our conversation:\n",
    "\n",
    "---\n",
    "\n",
    "**Summary of Conversation:**\n",
    "\n",
    "In our discussion, we explored the implementation of a Markovian chatbot in Python. The provided code snippet initializes two dictionaries: `word_used` and `next_word`. \n",
    "\n",
    "1. **`word_used` Dictionary:**\n",
    "   - This dictionary keeps track of how many times each word appears in the input list `words`.\n",
    "\n",
    "2. **`next_word` Dictionary:**\n",
    "   - This is a nested dictionary where each key is a word from the input list. For each key, the value is another dictionary that records how many times each subsequent word follows the key word.\n",
    "\n",
    "The code iterates through the list of words, updating both dictionaries to reflect word frequencies and the likelihood of one word following another. This setup forms the basis for a Markovian chatbot, which generates text based on the statistical relationship between words.\n",
    "\n",
    "--- \n",
    "\n",
    "Feel free to adjust or expand upon this summary based on the specific requirements of your homework assignment!"
   ]
  },
  {
   "cell_type": "markdown",
   "id": "c89f378f-e1e8-4687-9641-3daeaa41c8c3",
   "metadata": {
    "jp-MarkdownHeadingCollapsed": true
   },
   "source": [
    "## Question 5"
   ]
  },
  {
   "cell_type": "markdown",
   "id": "b7a85f6c-b33d-4922-8251-3c22005b6c5c",
   "metadata": {},
   "source": [
    "ChatGPT was immediately able to understand and explain what each code extension did."
   ]
  },
  {
   "cell_type": "markdown",
   "id": "f86e39d8-db8e-4aad-b63d-dd77b98d551f",
   "metadata": {},
   "source": [
    "**ChatGPT Link:** https://chatgpt.com/share/66ea4f74-89dc-8004-b556-f66a85c39c0d\n",
    "\n",
    "**ChatGPT Summary:**\n",
    "\n",
    "Sure! Here’s a summary of our conversation about the Markovian chatbot code and its extensions:\n",
    "\n",
    "---\n",
    "\n",
    "**Summary:**\n",
    "\n",
    "We discussed enhancements to a basic Markovian chatbot implemented in Python. The original code tracks word sequences and their frequencies to generate text based on word pairs.\n",
    "\n",
    "**Extension #1:**\n",
    "- **Purpose:** This extension improves the model by focusing on bigrams (two-word sequences) rather than single words.\n",
    "- **Functionality:** It uses `word_used2` to count occurrences of each bigram and `next_word2` to track how often each word follows a given bigram.\n",
    "\n",
    "**Extension #2:**\n",
    "- **Purpose:** This extension integrates character-specific data from a dataset to refine the chatbot's text generation capabilities.\n",
    "- **Functionality:** It creates `word_used2C` and `next_word2C` nested dictionaries that track word sequences and their frequencies based on different characters. The extension updates counts according to the characters found in the dataset, allowing for more contextually appropriate text generation.\n",
    "\n",
    "---\n",
    "\n",
    "Feel free to adjust or add details based on your needs!"
   ]
  },
  {
   "cell_type": "markdown",
   "id": "5489418e-447d-4afc-b671-f0a23b77cadb",
   "metadata": {},
   "source": [
    "After giving ChatGPT the full code extension at once, it still understands everything and explains it well."
   ]
  },
  {
   "cell_type": "markdown",
   "id": "830ae3c5-e2ed-48d1-a77b-0038e9903ff1",
   "metadata": {},
   "source": [
    "**ChatGPT Link:** https://chatgpt.com/share/66ea52f8-6ba0-8004-94a7-5b1667d46fe5\n",
    "\n",
    "**ChatGPT Summary:**\n",
    "\n",
    "In this conversation, you provided a piece of code for creating a \"Markovian ChatBot\" and asked for an explanation. I broke down the code step by step, explaining how it processes a dataset of character dialogues to build two nested dictionaries:\n",
    "\n",
    "1. **`word_used2C`**: Tracks the occurrence of bigrams (pairs of consecutive words) associated with each character.\n",
    "2. **`next_word2C`**: Keeps track of the word that typically follows a given bigram for each character.\n",
    "\n",
    "These data structures help generate text in a Markovian manner based on word patterns in the dataset."
   ]
  },
  {
   "cell_type": "markdown",
   "id": "5e7f228b-2d39-4dc4-89fc-db97fa64817c",
   "metadata": {
    "jp-MarkdownHeadingCollapsed": true
   },
   "source": [
    "## Question 6"
   ]
  },
  {
   "cell_type": "markdown",
   "id": "ee1474f1-8a79-4f13-b425-f0466fb5e4dc",
   "metadata": {},
   "source": [
    "1. The ChatBot was very helpful for the questions, as it immediately understood what the \"Markovian Chatbot\" code was doing, and was able to explain it in a relatively clear and concise way.\n",
    "2. Interacting with the ChatBot to try and figure things out was for the most part very easy, as it basically caters to your needs and helps you understand specifically what you don't understand. However, sometimes the responses from the ChatBot are very long-winded and excessive, which can make it frustrating to work with.\n",
    "3. In my experience using ChatBots, I feel they are a great tool to debug code, especially for beginner programmers, as it's often way faster to solve a problem by directly asking the ChatBot instead of looking it up on the internet and tediously looking through different pages and code forums to try and find a solution. They are also great at explaining code you don't understand, although they can sometimes be too talkative."
   ]
  },
  {
   "cell_type": "markdown",
   "id": "a15567ff-d8f1-4723-b1c8-57c92f148d4a",
   "metadata": {
    "jp-MarkdownHeadingCollapsed": true
   },
   "source": [
    "## Question 7"
   ]
  },
  {
   "cell_type": "markdown",
   "id": "d585d126-09e8-4ddd-a14e-1952826f8256",
   "metadata": {},
   "source": [
    "Since joining the course, my view on AI-driven assistance tools has become more positive, as I have found these tools to be very useful in the context of learning coding, statistics, and data science. These tools have saved me a lot of time when it comes to quickly understanding a concept, as well as solving problems that would have otherwise given me a headache. However, one thing I do dislike about the use of AI in this course is its heavy dependence on it (e.g. obligation to show ChatBot logs and summaries). This has sometimes made me feel like I was purely using the AI to satisfy the rubric of the homework, and not for my own personal understanding of the subject material. All in all, I think ChatBots and AI tools have had, and will continue to have a positive impact on learning, especially in subjects such as coding, statistics, and data science."
   ]
  },
  {
   "cell_type": "markdown",
   "id": "5cad7943-da09-41a2-9f5f-467abe3ad0fc",
   "metadata": {
    "jp-MarkdownHeadingCollapsed": true
   },
   "source": [
    "## Question 8"
   ]
  },
  {
   "cell_type": "markdown",
   "id": "1e121070-d557-4f76-9b74-6f2efda9c330",
   "metadata": {},
   "source": [
    "ChatGPT basically concluded that if I wanted to pursue a career related to Mathematics / Statistics, I could really take anything sort of related, such as Applied Mathematics, Statistics, Computer Science, even Quantitative Economy or Physics / Engineering, and that if I had good electives, or ways to prove my competence in skills also needed for those careers."
   ]
  },
  {
   "cell_type": "markdown",
   "id": "711b43f5-4bee-446f-9977-7a00a7328ebb",
   "metadata": {},
   "source": [
    "**ChatGPT Link:** https://chatgpt.com/share/66ea5bf5-28b0-8004-a143-61cc319f650a\n",
    "\n",
    "**ChatGPT Summary:**\n",
    "\n",
    "We discussed the skills crucial for modern careers, especially in **data science**, including learning adaptability, communication, coding, and data analysis. You inquired about becoming a data scientist without coding or data analysis, which is unlikely since these skills are core to the field. You also explored **Applied Mathematics** as a major for data science and its potential career options, comparing it to other majors like **Statistics**, **Computer Science**, and **Data Science**. In the end, **Applied Mathematics** is a strong choice for data science, but it’s helpful to include electives in statistics and coding for a well-rounded skill set."
   ]
  },
  {
   "cell_type": "markdown",
   "id": "3c36cfca-f405-44a7-98a9-d2c858ecabf8",
   "metadata": {
    "jp-MarkdownHeadingCollapsed": true
   },
   "source": [
    "## Question 9"
   ]
  },
  {
   "cell_type": "markdown",
   "id": "a550b6ff-be9b-4948-ac71-a02314c36bec",
   "metadata": {},
   "source": [
    "Yes"
   ]
  }
 ],
 "metadata": {
  "kernelspec": {
   "display_name": "Python 3 (ipykernel)",
   "language": "python",
   "name": "python3"
  },
  "language_info": {
   "codemirror_mode": {
    "name": "ipython",
    "version": 3
   },
   "file_extension": ".py",
   "mimetype": "text/x-python",
   "name": "python",
   "nbconvert_exporter": "python",
   "pygments_lexer": "ipython3",
   "version": "3.11.5"
  }
 },
 "nbformat": 4,
 "nbformat_minor": 5
}
